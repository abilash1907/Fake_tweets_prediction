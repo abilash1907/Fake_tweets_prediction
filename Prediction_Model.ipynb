{
 "cells": [
  {
   "cell_type": "code",
   "execution_count": 28,
   "metadata": {},
   "outputs": [
    {
     "name": "stdout",
     "output_type": "stream",
     "text": [
      "Requirement already satisfied: seaborn in c:\\users\\guestnew\\desktop\\fake_news_detection\\pro\\lib\\site-packages (0.11.2)\n",
      "Requirement already satisfied: nltk in c:\\users\\guestnew\\desktop\\fake_news_detection\\pro\\lib\\site-packages (3.6.7)\n",
      "Requirement already satisfied: numpy>=1.15 in c:\\users\\guestnew\\desktop\\fake_news_detection\\pro\\lib\\site-packages (from seaborn) (1.19.5)\n",
      "Requirement already satisfied: pandas>=0.23 in c:\\users\\guestnew\\desktop\\fake_news_detection\\pro\\lib\\site-packages (from seaborn) (1.1.5)\n",
      "Requirement already satisfied: scipy>=1.0 in c:\\users\\guestnew\\desktop\\fake_news_detection\\pro\\lib\\site-packages (from seaborn) (1.5.4)\n",
      "Requirement already satisfied: matplotlib>=2.2 in c:\\users\\guestnew\\desktop\\fake_news_detection\\pro\\lib\\site-packages (from seaborn) (3.3.4)\n",
      "Requirement already satisfied: regex>=2021.8.3 in c:\\users\\guestnew\\desktop\\fake_news_detection\\pro\\lib\\site-packages (from nltk) (2022.6.2)\n",
      "Requirement already satisfied: joblib in c:\\users\\guestnew\\desktop\\fake_news_detection\\pro\\lib\\site-packages (from nltk) (1.1.0)\n",
      "Requirement already satisfied: tqdm in c:\\users\\guestnew\\desktop\\fake_news_detection\\pro\\lib\\site-packages (from nltk) (4.64.0)\n",
      "Requirement already satisfied: click in c:\\users\\guestnew\\desktop\\fake_news_detection\\pro\\lib\\site-packages (from nltk) (8.0.4)\n",
      "Requirement already satisfied: pyparsing!=2.0.4,!=2.1.2,!=2.1.6,>=2.0.3 in c:\\users\\guestnew\\desktop\\fake_news_detection\\pro\\lib\\site-packages (from matplotlib>=2.2->seaborn) (3.0.9)\n",
      "Requirement already satisfied: cycler>=0.10 in c:\\users\\guestnew\\desktop\\fake_news_detection\\pro\\lib\\site-packages (from matplotlib>=2.2->seaborn) (0.11.0)\n",
      "Requirement already satisfied: pillow>=6.2.0 in c:\\users\\guestnew\\desktop\\fake_news_detection\\pro\\lib\\site-packages (from matplotlib>=2.2->seaborn) (8.4.0)\n",
      "Requirement already satisfied: kiwisolver>=1.0.1 in c:\\users\\guestnew\\desktop\\fake_news_detection\\pro\\lib\\site-packages (from matplotlib>=2.2->seaborn) (1.3.1)\n",
      "Requirement already satisfied: python-dateutil>=2.1 in c:\\users\\guestnew\\desktop\\fake_news_detection\\pro\\lib\\site-packages (from matplotlib>=2.2->seaborn) (2.8.2)\n",
      "Requirement already satisfied: pytz>=2017.2 in c:\\users\\guestnew\\desktop\\fake_news_detection\\pro\\lib\\site-packages (from pandas>=0.23->seaborn) (2022.1)\n",
      "Requirement already satisfied: colorama in c:\\users\\guestnew\\desktop\\fake_news_detection\\pro\\lib\\site-packages (from click->nltk) (0.4.5)\n",
      "Requirement already satisfied: importlib-metadata in c:\\users\\guestnew\\desktop\\fake_news_detection\\pro\\lib\\site-packages (from click->nltk) (4.8.3)\n",
      "Requirement already satisfied: importlib-resources in c:\\users\\guestnew\\desktop\\fake_news_detection\\pro\\lib\\site-packages (from tqdm->nltk) (5.4.0)\n",
      "Requirement already satisfied: six>=1.5 in c:\\users\\guestnew\\desktop\\fake_news_detection\\pro\\lib\\site-packages (from python-dateutil>=2.1->matplotlib>=2.2->seaborn) (1.15.0)\n",
      "Requirement already satisfied: typing-extensions>=3.6.4 in c:\\users\\guestnew\\desktop\\fake_news_detection\\pro\\lib\\site-packages (from importlib-metadata->click->nltk) (3.7.4.3)\n",
      "Requirement already satisfied: zipp>=0.5 in c:\\users\\guestnew\\desktop\\fake_news_detection\\pro\\lib\\site-packages (from importlib-metadata->click->nltk) (3.6.0)\n",
      "Note: you may need to restart the kernel to use updated packages.\n"
     ]
    }
   ],
   "source": [
    "pip install seaborn nltk "
   ]
  },
  {
   "cell_type": "code",
   "execution_count": 29,
   "metadata": {
    "colab": {},
    "colab_type": "code",
    "id": "KZSw5gX4HZWX"
   },
   "outputs": [],
   "source": [
    "import os\n",
    "import pandas as pd\n",
    "import seaborn as sns \n",
    "import matplotlib.pyplot as plt\n",
    "import seaborn as sns\n",
    "import string\n",
    "import re\n",
    "import nltk\n",
    "from nltk.corpus import stopwords  \n",
    "from sklearn.model_selection import train_test_split\n",
    "from sklearn.metrics import accuracy_score, f1_score,precision_score,recall_score\n",
    "from sklearn import metrics\n",
    "\n"
   ]
  },
  {
   "cell_type": "markdown",
   "metadata": {
    "colab_type": "text",
    "id": "KYnXl7PwYLag"
   },
   "source": [
    "# Data Analysis"
   ]
  },
  {
   "cell_type": "code",
   "execution_count": 30,
   "metadata": {
    "colab": {},
    "colab_type": "code",
    "id": "h9lkL-JpYKDR"
   },
   "outputs": [],
   "source": [
    "df = pd.read_csv(\"data.csv\")"
   ]
  },
  {
   "cell_type": "code",
   "execution_count": 31,
   "metadata": {
    "colab": {
     "base_uri": "https://localhost:8080/",
     "height": 202
    },
    "colab_type": "code",
    "id": "8MBKi0U7YZoq",
    "outputId": "f1687264-60ec-4928-f6e4-a60856e04587"
   },
   "outputs": [
    {
     "data": {
      "text/html": [
       "<div>\n",
       "<style scoped>\n",
       "    .dataframe tbody tr th:only-of-type {\n",
       "        vertical-align: middle;\n",
       "    }\n",
       "\n",
       "    .dataframe tbody tr th {\n",
       "        vertical-align: top;\n",
       "    }\n",
       "\n",
       "    .dataframe thead th {\n",
       "        text-align: right;\n",
       "    }\n",
       "</style>\n",
       "<table border=\"1\" class=\"dataframe\">\n",
       "  <thead>\n",
       "    <tr style=\"text-align: right;\">\n",
       "      <th></th>\n",
       "      <th>Unnamed: 0</th>\n",
       "      <th>tweets</th>\n",
       "      <th>target</th>\n",
       "    </tr>\n",
       "  </thead>\n",
       "  <tbody>\n",
       "    <tr>\n",
       "      <th>0</th>\n",
       "      <td>0</td>\n",
       "      <td>Pete Buttigieg Admits Only Recently Realizing ...</td>\n",
       "      <td>1</td>\n",
       "    </tr>\n",
       "    <tr>\n",
       "      <th>1</th>\n",
       "      <td>1</td>\n",
       "      <td>Mom Changes Words Of Prayer To Be More Cheerful</td>\n",
       "      <td>1</td>\n",
       "    </tr>\n",
       "    <tr>\n",
       "      <th>2</th>\n",
       "      <td>2</td>\n",
       "      <td>Macy’s Parade Float Covered In Tickets After P...</td>\n",
       "      <td>1</td>\n",
       "    </tr>\n",
       "    <tr>\n",
       "      <th>3</th>\n",
       "      <td>3</td>\n",
       "      <td>Winter Storms Threaten Americans Traveling Bac...</td>\n",
       "      <td>1</td>\n",
       "    </tr>\n",
       "    <tr>\n",
       "      <th>4</th>\n",
       "      <td>4</td>\n",
       "      <td>White House Begins Christmas Season With Cerem...</td>\n",
       "      <td>1</td>\n",
       "    </tr>\n",
       "  </tbody>\n",
       "</table>\n",
       "</div>"
      ],
      "text/plain": [
       "   Unnamed: 0                                             tweets  target\n",
       "0           0  Pete Buttigieg Admits Only Recently Realizing ...       1\n",
       "1           1  Mom Changes Words Of Prayer To Be More Cheerful         1\n",
       "2           2  Macy’s Parade Float Covered In Tickets After P...       1\n",
       "3           3  Winter Storms Threaten Americans Traveling Bac...       1\n",
       "4           4  White House Begins Christmas Season With Cerem...       1"
      ]
     },
     "execution_count": 31,
     "metadata": {},
     "output_type": "execute_result"
    }
   ],
   "source": [
    "df.head()"
   ]
  },
  {
   "cell_type": "code",
   "execution_count": 32,
   "metadata": {
    "colab": {},
    "colab_type": "code",
    "id": "tFzAnz18h4RF"
   },
   "outputs": [],
   "source": [
    "df['Tweets_length'] = df['tweets'].str.len()\n",
    "#drop null values\n",
    "df = df.dropna(subset=['tweets'])"
   ]
  },
  {
   "cell_type": "markdown",
   "metadata": {
    "colab_type": "text",
    "id": "M0DnSJVzrFkw"
   },
   "source": [
    "# Feature Engineering"
   ]
  },
  {
   "cell_type": "markdown",
   "metadata": {
    "colab_type": "text",
    "id": "YXySDiQrrJni"
   },
   "source": [
    "## Text cleaning and preparation"
   ]
  },
  {
   "cell_type": "code",
   "execution_count": 33,
   "metadata": {
    "colab": {
     "base_uri": "https://localhost:8080/",
     "height": 52
    },
    "colab_type": "code",
    "id": "s7elk9akLml0",
    "outputId": "6978c057-9579-4755-f0d5-89500e9623d1"
   },
   "outputs": [
    {
     "name": "stderr",
     "output_type": "stream",
     "text": [
      "[nltk_data] Downloading package stopwords to\n",
      "[nltk_data]     C:\\Users\\guestnew\\AppData\\Roaming\\nltk_data...\n",
      "[nltk_data]   Unzipping corpora\\stopwords.zip.\n"
     ]
    }
   ],
   "source": [
    "# Downloading the stop words list\n",
    "nltk.download('stopwords')\n",
    "\n",
    "# Loading the stop words in english\n",
    "stopword = nltk.corpus.stopwords.words('english')\n",
    "\n",
    "def create_features_from_df(df):\n",
    "    \n",
    "    def remove_punct(text):\n",
    "      text  = \"\".join([char for char in text if char not in string.punctuation])\n",
    "      return text\n",
    "\n",
    "    def clean_text(text):\n",
    "      txt = re.sub(\"[( ' )( ')(' )]\", ' ', text)\n",
    "      txt=re.sub(\"(@[A-Za-z0-9]+)|([^0-9A-Za-z \\t]) | (\\w +:\\ / \\ / \\S +)\", \" \", txt)\n",
    "      return txt.lower()\n",
    "\n",
    "    def remove_stopwords(text):\n",
    "      text  = \" \".join([word for word in text.split(\" \") if word not in stopword])\n",
    "      return text\n",
    "\n",
    "    df['new_tweets'] = df['tweets'].apply(lambda x: remove_punct(str(x)))\n",
    "    df['new_tweets'] = df['new_tweets'].apply(lambda x: clean_text(str(x)))\n",
    "    df['new_tweets'] = df['new_tweets'].apply(lambda x: remove_stopwords(str(x)))\n",
    "    df.dropna()\n",
    "    return df"
   ]
  },
  {
   "cell_type": "code",
   "execution_count": 34,
   "metadata": {
    "colab": {},
    "colab_type": "code",
    "id": "g_f_cxGbkjHA"
   },
   "outputs": [],
   "source": [
    "df.to_csv(\"Cleaned_Tweets.csv\")"
   ]
  },
  {
   "cell_type": "markdown",
   "metadata": {
    "colab_type": "text",
    "id": "35AVXD5r3veM"
   },
   "source": [
    "# Comparing Fake News Classifiers"
   ]
  },
  {
   "cell_type": "markdown",
   "metadata": {
    "colab_type": "text",
    "id": "tk70zcWB35ds"
   },
   "source": [
    "##Transforming our collected data"
   ]
  },
  {
   "cell_type": "code",
   "execution_count": 35,
   "metadata": {
    "colab": {},
    "colab_type": "code",
    "id": "tAhsHyEq3Ndy"
   },
   "outputs": [],
   "source": [
    "# Load data\n",
    "df = pd.read_csv(\"Cleaned_Tweets.csv\")"
   ]
  },
  {
   "cell_type": "code",
   "execution_count": 36,
   "metadata": {
    "colab": {},
    "colab_type": "code",
    "id": "fzVXw_2iz-PF"
   },
   "outputs": [],
   "source": [
    "df=df.dropna(how='any')"
   ]
  },
  {
   "cell_type": "code",
   "execution_count": 37,
   "metadata": {
    "colab": {
     "base_uri": "https://localhost:8080/",
     "height": 202
    },
    "colab_type": "code",
    "id": "DHLgx3oQ1ZxH",
    "outputId": "8be6d268-61a9-45bd-9cb2-69b37d9439f2"
   },
   "outputs": [
    {
     "data": {
      "text/html": [
       "<div>\n",
       "<style scoped>\n",
       "    .dataframe tbody tr th:only-of-type {\n",
       "        vertical-align: middle;\n",
       "    }\n",
       "\n",
       "    .dataframe tbody tr th {\n",
       "        vertical-align: top;\n",
       "    }\n",
       "\n",
       "    .dataframe thead th {\n",
       "        text-align: right;\n",
       "    }\n",
       "</style>\n",
       "<table border=\"1\" class=\"dataframe\">\n",
       "  <thead>\n",
       "    <tr style=\"text-align: right;\">\n",
       "      <th></th>\n",
       "      <th>Unnamed: 0</th>\n",
       "      <th>Unnamed: 0.1</th>\n",
       "      <th>tweets</th>\n",
       "      <th>target</th>\n",
       "      <th>Tweets_length</th>\n",
       "    </tr>\n",
       "  </thead>\n",
       "  <tbody>\n",
       "    <tr>\n",
       "      <th>0</th>\n",
       "      <td>0</td>\n",
       "      <td>0</td>\n",
       "      <td>Pete Buttigieg Admits Only Recently Realizing ...</td>\n",
       "      <td>1</td>\n",
       "      <td>69.0</td>\n",
       "    </tr>\n",
       "    <tr>\n",
       "      <th>1</th>\n",
       "      <td>1</td>\n",
       "      <td>1</td>\n",
       "      <td>Mom Changes Words Of Prayer To Be More Cheerful</td>\n",
       "      <td>1</td>\n",
       "      <td>49.0</td>\n",
       "    </tr>\n",
       "    <tr>\n",
       "      <th>2</th>\n",
       "      <td>2</td>\n",
       "      <td>2</td>\n",
       "      <td>Macy’s Parade Float Covered In Tickets After P...</td>\n",
       "      <td>1</td>\n",
       "      <td>89.0</td>\n",
       "    </tr>\n",
       "    <tr>\n",
       "      <th>3</th>\n",
       "      <td>3</td>\n",
       "      <td>3</td>\n",
       "      <td>Winter Storms Threaten Americans Traveling Bac...</td>\n",
       "      <td>1</td>\n",
       "      <td>84.0</td>\n",
       "    </tr>\n",
       "    <tr>\n",
       "      <th>4</th>\n",
       "      <td>4</td>\n",
       "      <td>4</td>\n",
       "      <td>White House Begins Christmas Season With Cerem...</td>\n",
       "      <td>1</td>\n",
       "      <td>71.0</td>\n",
       "    </tr>\n",
       "  </tbody>\n",
       "</table>\n",
       "</div>"
      ],
      "text/plain": [
       "   Unnamed: 0  Unnamed: 0.1  \\\n",
       "0           0             0   \n",
       "1           1             1   \n",
       "2           2             2   \n",
       "3           3             3   \n",
       "4           4             4   \n",
       "\n",
       "                                              tweets  target  Tweets_length  \n",
       "0  Pete Buttigieg Admits Only Recently Realizing ...       1           69.0  \n",
       "1  Mom Changes Words Of Prayer To Be More Cheerful         1           49.0  \n",
       "2  Macy’s Parade Float Covered In Tickets After P...       1           89.0  \n",
       "3  Winter Storms Threaten Americans Traveling Bac...       1           84.0  \n",
       "4  White House Begins Christmas Season With Cerem...       1           71.0  "
      ]
     },
     "execution_count": 37,
     "metadata": {},
     "output_type": "execute_result"
    }
   ],
   "source": [
    "df.head()"
   ]
  },
  {
   "cell_type": "code",
   "execution_count": 38,
   "metadata": {
    "colab": {},
    "colab_type": "code",
    "id": "57xXGku59xDT"
   },
   "outputs": [],
   "source": [
    "y = df.target\n",
    "df = df.drop('target', axis=1)"
   ]
  },
  {
   "cell_type": "code",
   "execution_count": 39,
   "metadata": {
    "colab": {},
    "colab_type": "code",
    "id": "Be86uuZZIurM"
   },
   "outputs": [],
   "source": [
    "X_train, X_test, y_train, y_test = train_test_split(df['tweets'], y, test_size=0.33, random_state=53)"
   ]
  },
  {
   "cell_type": "code",
   "execution_count": 40,
   "metadata": {
    "colab": {},
    "colab_type": "code",
    "id": "vbvBal7xIy0o"
   },
   "outputs": [],
   "source": [
    "from sklearn.feature_extraction.text import TfidfVectorizer\n",
    "tfidf_vectorizer = TfidfVectorizer(stop_words='english', max_df=0.7)\n",
    "tfidf_train = tfidf_vectorizer.fit_transform(X_train)\n",
    "tfidf_test = tfidf_vectorizer.transform(X_test)"
   ]
  },
  {
   "cell_type": "markdown",
   "metadata": {
    "colab_type": "text",
    "id": "5OW3QsR7I6uL"
   },
   "source": [
    "##Training models"
   ]
  },
  {
   "cell_type": "markdown",
   "metadata": {
    "colab_type": "text",
    "id": "QpoMmeiGJqtg"
   },
   "source": [
    "### LinearSVC"
   ]
  },
  {
   "cell_type": "code",
   "execution_count": 41,
   "metadata": {
    "colab": {
     "base_uri": "https://localhost:8080/",
     "height": 34
    },
    "colab_type": "code",
    "id": "8SlInuH99_G9",
    "outputId": "6952d784-395f-47b1-89cc-2f060345f41a"
   },
   "outputs": [
    {
     "name": "stdout",
     "output_type": "stream",
     "text": [
      "accuracy:   0.915\n",
      "f1score:   0.899\n",
      "precision:   0.909\n",
      "recall_score:   0.890\n"
     ]
    }
   ],
   "source": [
    "from sklearn.svm import LinearSVC\n",
    "svc_tfidf_clf = LinearSVC()\n",
    "\n",
    "svc_tfidf_clf.fit(tfidf_train, y_train)\n",
    "pred = svc_tfidf_clf.predict(tfidf_test)\n",
    "score = metrics.accuracy_score(y_test, pred)\n",
    "score2 = metrics.f1_score(y_test, pred)\n",
    "\n",
    "print(\"accuracy:   %0.3f\" % score)\n",
    "print(\"f1score:   %0.3f\" % score2)\n",
    "print(\"precision:   %0.3f\" % metrics.precision_score(y_test,pred))\n",
    "print(\"recall_score:   %0.3f\" % metrics.recall_score(y_test,pred))"
   ]
  },
  {
   "cell_type": "markdown",
   "metadata": {
    "colab_type": "text",
    "id": "JDDFSUhZNIkF"
   },
   "source": [
    "# Saving model and functions"
   ]
  },
  {
   "cell_type": "code",
   "execution_count": 42,
   "metadata": {
    "colab": {},
    "colab_type": "code",
    "id": "HSKH788BNNei"
   },
   "outputs": [],
   "source": [
    "import pickle\n",
    "#save tfidf to the disk\n",
    "filename = 'cleaning_data.sav'\n",
    "pickle.dump(create_features_from_df, open(filename, 'wb'))\n",
    "# save the model to disk\n",
    "filename = 'svc_model.sav'\n",
    "pickle.dump(svc_tfidf_clf, open(filename, 'wb'))\n",
    "#save tfidf vectorizer\n",
    "filename = 'tfidf_vectorizer.sav'\n",
    "pickle.dump(tfidf_vectorizer, open(filename, 'wb'))"
   ]
  },
  {
   "cell_type": "markdown",
   "metadata": {
    "colab_type": "text",
    "id": "Ndr0g_DqFx11"
   },
   "source": [
    "#Introspecting models"
   ]
  },
  {
   "cell_type": "markdown",
   "metadata": {
    "colab_type": "text",
    "id": "6DESlaNMKj4h"
   },
   "source": [
    "# Tweets Classification"
   ]
  },
  {
   "cell_type": "code",
   "execution_count": 43,
   "metadata": {
    "colab": {},
    "colab_type": "code",
    "id": "zfHJ7ec0Ny9k"
   },
   "outputs": [],
   "source": [
    "# load \n",
    "svc_model = pickle.load(open(\"svc_model.sav\", 'rb'))\n",
    "cleaning_data = pickle.load(open(\"cleaning_data.sav\", 'rb'))\n",
    "tfidf_vectorizer= pickle.load(open(\"tfidf_vectorizer.sav\", 'rb'))\n"
   ]
  },
  {
   "cell_type": "code",
   "execution_count": 44,
   "metadata": {
    "colab": {},
    "colab_type": "code",
    "id": "caKm0mf9NyM_"
   },
   "outputs": [],
   "source": [
    "category_codes = {\n",
    "    'Real': 0,\n",
    "    'Fake': 1\n",
    "}"
   ]
  },
  {
   "cell_type": "code",
   "execution_count": 45,
   "metadata": {
    "colab": {},
    "colab_type": "code",
    "id": "UzYdEZyRKmdv"
   },
   "outputs": [],
   "source": [
    "# Tweets scraping\n",
    "import tweepy\n",
    "def get_tweets(item):\n",
    "    #Twitter API credentials\n",
    "    consumer_key =  \"2y5779N6k5EZpOz3VmOyabJHc\"\n",
    "    consumer_secret = \"q4DR8al72steNMS8Uf4PMmAU9sR0OTWMEwbu2DGZU35S7jN1ff\"\n",
    "    access_token = \"1534057526483832832-cHWlsx6qpL9XlXt5zCSbG1pIom6lom\"\n",
    "    access_token_secret = \"Kj7bDn8dlvQEloRflgpAtLC1IgOoF9dkWFluRfux5MlzD\"\n",
    "    \n",
    "    OAUTH_KEYS = {'consumer_key':consumer_key, 'consumer_secret':consumer_secret,\n",
    "    'access_token_key':access_token, 'access_token_secret':access_token_secret}\n",
    "    auth = tweepy.OAuthHandler(OAUTH_KEYS['consumer_key'], OAUTH_KEYS['consumer_secret'])\n",
    "    api = tweepy.API(auth, wait_on_rate_limit=True)\n",
    "\n",
    "    # Request\n",
    "    search = tweepy.Cursor(api.search_tweets, q=item).items(60)\n",
    "\n",
    "    # Creation des listes pour chaque tweet\n",
    "    sn = []\n",
    "    text = []\n",
    "    timestamp =[]\n",
    "    for tweet in search:\n",
    "        sn.append(tweet.user.screen_name)\n",
    "        text.append(tweet.text)\n",
    "        \n",
    "    # df_features\n",
    "    df_features = pd.DataFrame(\n",
    "         {'tweets': text \n",
    "        })\n",
    "    # df_show_info\n",
    "\n",
    "    df_show_info = pd.DataFrame(\n",
    "\n",
    "        {'User Screen Name': sn\n",
    "        })\n",
    "    \n",
    "    return (df_features,df_show_info)"
   ]
  },
  {
   "cell_type": "code",
   "execution_count": 46,
   "metadata": {
    "colab": {},
    "colab_type": "code",
    "id": "WSOuWCo7LW_T"
   },
   "outputs": [],
   "source": [
    "def get_category_name(category_id):\n",
    "    for category, id_ in category_codes.items():    \n",
    "        if id_ == category_id:\n",
    "            return category"
   ]
  },
  {
   "cell_type": "code",
   "execution_count": 47,
   "metadata": {
    "colab": {},
    "colab_type": "code",
    "id": "2Sl20bCrOTEp"
   },
   "outputs": [],
   "source": [
    "def predict_from_features(features):\n",
    "        \n",
    "    predictions_pre = svc_model.predict(features)\n",
    "\n",
    "    predictions = []\n",
    "\n",
    "    for cat in predictions_pre:\n",
    "           predictions.append(cat)\n",
    "\n",
    "    categories = [get_category_name(x) for x in predictions]\n",
    "    \n",
    "    return categories"
   ]
  },
  {
   "cell_type": "code",
   "execution_count": 48,
   "metadata": {
    "colab": {},
    "colab_type": "code",
    "id": "uzekJ_I5Oi1B"
   },
   "outputs": [],
   "source": [
    "def complete_df(df, categories):\n",
    "    df['Prediction'] = categories\n",
    "    return df"
   ]
  },
  {
   "cell_type": "code",
   "execution_count": 22,
   "metadata": {
    "colab": {},
    "colab_type": "code",
    "id": "Zxhgg32aOl36"
   },
   "outputs": [],
   "source": [
    "search=input(\"Enter the Key : \")\n",
    "(df_features,df_show_info) = get_tweets(search)"
   ]
  },
  {
   "cell_type": "code",
   "execution_count": 23,
   "metadata": {
    "colab": {},
    "colab_type": "code",
    "id": "8xbfLthZO90G"
   },
   "outputs": [
    {
     "data": {
      "text/html": [
       "<div>\n",
       "<style scoped>\n",
       "    .dataframe tbody tr th:only-of-type {\n",
       "        vertical-align: middle;\n",
       "    }\n",
       "\n",
       "    .dataframe tbody tr th {\n",
       "        vertical-align: top;\n",
       "    }\n",
       "\n",
       "    .dataframe thead th {\n",
       "        text-align: right;\n",
       "    }\n",
       "</style>\n",
       "<table border=\"1\" class=\"dataframe\">\n",
       "  <thead>\n",
       "    <tr style=\"text-align: right;\">\n",
       "      <th></th>\n",
       "      <th>tweets</th>\n",
       "      <th>new_tweets</th>\n",
       "    </tr>\n",
       "  </thead>\n",
       "  <tbody>\n",
       "    <tr>\n",
       "      <th>0</th>\n",
       "      <td>RT @parkjwootwts: she’s my subshine in the rai...</td>\n",
       "      <td>rt parkjwootwts she’s subshine rain 🥺httpstcob...</td>\n",
       "    </tr>\n",
       "    <tr>\n",
       "      <th>1</th>\n",
       "      <td>RT @BT21_: Water fight in the rain?!?\\nSounds ...</td>\n",
       "      <td>rt bt21 water fight rain\\nsounds like kind sum...</td>\n",
       "    </tr>\n",
       "    <tr>\n",
       "      <th>2</th>\n",
       "      <td>12時間後\\nジミナ家🐥まで出来てた\\nリアルにやってるんだ🐰殿下\\nそして、シュガヒョンの...</td>\n",
       "      <td>12時間後\\nジミナ家🐥まで出来てた\\nリアルにやってるんだ🐰殿下\\nそして、シュガヒョンの...</td>\n",
       "    </tr>\n",
       "    <tr>\n",
       "      <th>3</th>\n",
       "      <td>@Rain_LePoer Mana Ixion\\nミストヴィレッジ 22区 (FCハウス) ...</td>\n",
       "      <td>rainlepoer mana ixion\\nミストヴィレッ 22 fcハウ 30番地\\nですー！</td>\n",
       "    </tr>\n",
       "    <tr>\n",
       "      <th>4</th>\n",
       "      <td>Hoy #4julio vamos a optar por un Menú @RockFM_...</td>\n",
       "      <td>hoy 4julio vamos optar por un men rockfmes muy...</td>\n",
       "    </tr>\n",
       "  </tbody>\n",
       "</table>\n",
       "</div>"
      ],
      "text/plain": [
       "                                              tweets  \\\n",
       "0  RT @parkjwootwts: she’s my subshine in the rai...   \n",
       "1  RT @BT21_: Water fight in the rain?!?\\nSounds ...   \n",
       "2  12時間後\\nジミナ家🐥まで出来てた\\nリアルにやってるんだ🐰殿下\\nそして、シュガヒョンの...   \n",
       "3  @Rain_LePoer Mana Ixion\\nミストヴィレッジ 22区 (FCハウス) ...   \n",
       "4  Hoy #4julio vamos a optar por un Menú @RockFM_...   \n",
       "\n",
       "                                          new_tweets  \n",
       "0  rt parkjwootwts she’s subshine rain 🥺httpstcob...  \n",
       "1  rt bt21 water fight rain\\nsounds like kind sum...  \n",
       "2  12時間後\\nジミナ家🐥まで出来てた\\nリアルにやってるんだ🐰殿下\\nそして、シュガヒョンの...  \n",
       "3  rainlepoer mana ixion\\nミストヴィレッ 22 fcハウ 30番地\\nですー！  \n",
       "4  hoy 4julio vamos optar por un men rockfmes muy...  "
      ]
     },
     "execution_count": 23,
     "metadata": {},
     "output_type": "execute_result"
    }
   ],
   "source": [
    "df_features = cleaning_data(df_features)\n",
    "df_features.head()"
   ]
  },
  {
   "cell_type": "code",
   "execution_count": 24,
   "metadata": {
    "colab": {},
    "colab_type": "code",
    "id": "fAm3m9RoPzOs"
   },
   "outputs": [],
   "source": [
    "features = tfidf_vectorizer.transform(df_features['new_tweets']).toarray()"
   ]
  },
  {
   "cell_type": "code",
   "execution_count": 25,
   "metadata": {
    "colab": {},
    "colab_type": "code",
    "id": "mFo1Vdv1PJkb"
   },
   "outputs": [],
   "source": [
    "predictions = predict_from_features(features)"
   ]
  },
  {
   "cell_type": "code",
   "execution_count": 26,
   "metadata": {
    "colab": {},
    "colab_type": "code",
    "id": "BJiL_ue-PmMp"
   },
   "outputs": [],
   "source": [
    "df = complete_df(df_features, predictions)"
   ]
  },
  {
   "cell_type": "code",
   "execution_count": 27,
   "metadata": {
    "colab": {
     "base_uri": "https://localhost:8080/",
     "height": 296
    },
    "colab_type": "code",
    "id": "vQvWubMsQz-s",
    "outputId": "a39287de-3d67-431d-f314-8fbcbff43a43"
   },
   "outputs": [
    {
     "name": "stdout",
     "output_type": "stream",
     "text": [
      "rain\n"
     ]
    },
    {
     "data": {
      "text/html": [
       "<div>\n",
       "<style scoped>\n",
       "    .dataframe tbody tr th:only-of-type {\n",
       "        vertical-align: middle;\n",
       "    }\n",
       "\n",
       "    .dataframe tbody tr th {\n",
       "        vertical-align: top;\n",
       "    }\n",
       "\n",
       "    .dataframe thead th {\n",
       "        text-align: right;\n",
       "    }\n",
       "</style>\n",
       "<table border=\"1\" class=\"dataframe\">\n",
       "  <thead>\n",
       "    <tr style=\"text-align: right;\">\n",
       "      <th></th>\n",
       "      <th>tweets</th>\n",
       "      <th>new_tweets</th>\n",
       "      <th>Prediction</th>\n",
       "    </tr>\n",
       "  </thead>\n",
       "  <tbody>\n",
       "    <tr>\n",
       "      <th>0</th>\n",
       "      <td>RT @parkjwootwts: she’s my subshine in the rai...</td>\n",
       "      <td>rt parkjwootwts she’s subshine rain 🥺httpstcob...</td>\n",
       "      <td>Real</td>\n",
       "    </tr>\n",
       "    <tr>\n",
       "      <th>1</th>\n",
       "      <td>RT @BT21_: Water fight in the rain?!?\\nSounds ...</td>\n",
       "      <td>rt bt21 water fight rain\\nsounds like kind sum...</td>\n",
       "      <td>Fake</td>\n",
       "    </tr>\n",
       "    <tr>\n",
       "      <th>2</th>\n",
       "      <td>12時間後\\nジミナ家🐥まで出来てた\\nリアルにやってるんだ🐰殿下\\nそして、シュガヒョンの...</td>\n",
       "      <td>12時間後\\nジミナ家🐥まで出来てた\\nリアルにやってるんだ🐰殿下\\nそして、シュガヒョンの...</td>\n",
       "      <td>Real</td>\n",
       "    </tr>\n",
       "    <tr>\n",
       "      <th>3</th>\n",
       "      <td>@Rain_LePoer Mana Ixion\\nミストヴィレッジ 22区 (FCハウス) ...</td>\n",
       "      <td>rainlepoer mana ixion\\nミストヴィレッ 22 fcハウ 30番地\\nですー！</td>\n",
       "      <td>Fake</td>\n",
       "    </tr>\n",
       "    <tr>\n",
       "      <th>4</th>\n",
       "      <td>Hoy #4julio vamos a optar por un Menú @RockFM_...</td>\n",
       "      <td>hoy 4julio vamos optar por un men rockfmes muy...</td>\n",
       "      <td>Real</td>\n",
       "    </tr>\n",
       "  </tbody>\n",
       "</table>\n",
       "</div>"
      ],
      "text/plain": [
       "                                              tweets  \\\n",
       "0  RT @parkjwootwts: she’s my subshine in the rai...   \n",
       "1  RT @BT21_: Water fight in the rain?!?\\nSounds ...   \n",
       "2  12時間後\\nジミナ家🐥まで出来てた\\nリアルにやってるんだ🐰殿下\\nそして、シュガヒョンの...   \n",
       "3  @Rain_LePoer Mana Ixion\\nミストヴィレッジ 22区 (FCハウス) ...   \n",
       "4  Hoy #4julio vamos a optar por un Menú @RockFM_...   \n",
       "\n",
       "                                          new_tweets Prediction  \n",
       "0  rt parkjwootwts she’s subshine rain 🥺httpstcob...       Real  \n",
       "1  rt bt21 water fight rain\\nsounds like kind sum...       Fake  \n",
       "2  12時間後\\nジミナ家🐥まで出来てた\\nリアルにやってるんだ🐰殿下\\nそして、シュガヒョンの...       Real  \n",
       "3  rainlepoer mana ixion\\nミストヴィレッ 22 fcハウ 30番地\\nですー！       Fake  \n",
       "4  hoy 4julio vamos optar por un men rockfmes muy...       Real  "
      ]
     },
     "execution_count": 27,
     "metadata": {},
     "output_type": "execute_result"
    }
   ],
   "source": [
    "#sns.countplot(x = 'Prediction', data = df)\n",
    "print(search)\n",
    "df.head()"
   ]
  }
 ],
 "metadata": {
  "accelerator": "GPU",
  "colab": {
   "collapsed_sections": [
    "KYnXl7PwYLag",
    "35AVXD5r3veM",
    "tk70zcWB35ds",
    "5OW3QsR7I6uL",
    "7EwG0F_bJMIv",
    "Uvwb9S3nJXG-",
    "QpoMmeiGJqtg",
    "dahRrOpqKY21",
    "JDDFSUhZNIkF",
    "Ndr0g_DqFx11",
    "6DESlaNMKj4h"
   ],
   "name": "2ndChance_FakeNews.ipynb",
   "provenance": [],
   "toc_visible": true
  },
  "kernelspec": {
   "display_name": "Python 3.6.8 ('pro': venv)",
   "language": "python",
   "name": "python3"
  },
  "language_info": {
   "codemirror_mode": {
    "name": "ipython",
    "version": 3
   },
   "file_extension": ".py",
   "mimetype": "text/x-python",
   "name": "python",
   "nbconvert_exporter": "python",
   "pygments_lexer": "ipython3",
   "version": "3.6.8"
  },
  "vscode": {
   "interpreter": {
    "hash": "6114f530a8e89f245edca818eb6d399e492634cedb21669272261a81102d07dc"
   }
  }
 },
 "nbformat": 4,
 "nbformat_minor": 4
}
